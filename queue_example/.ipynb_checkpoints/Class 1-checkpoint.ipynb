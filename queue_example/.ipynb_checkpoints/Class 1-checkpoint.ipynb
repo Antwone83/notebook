{
 "cells": [
  {
   "cell_type": "code",
   "execution_count": 1,
   "id": "99a89a26",
   "metadata": {},
   "outputs": [
    {
     "name": "stdout",
     "output_type": "stream",
     "text": [
      "h\n",
      "e\n",
      "l\n",
      "l\n",
      "o\n",
      ",\n",
      " \n",
      "w\n",
      "o\n",
      "r\n",
      "l\n",
      "d\n"
     ]
    }
   ],
   "source": [
    "for letter in \"hello, world\":\n",
    "    print(letter)"
   ]
  },
  {
   "cell_type": "code",
   "execution_count": 7,
   "id": "10ee9adf",
   "metadata": {},
   "outputs": [],
   "source": [
    "# Cars vs Scars\n"
   ]
  },
  {
   "cell_type": "code",
   "execution_count": 3,
   "id": "105a1455",
   "metadata": {},
   "outputs": [],
   "source": [
    "# define function \"is_anagram\" <- parameters: string_a, string_b\n",
    "#if the length of string_a is not l to the length of string_b; then\n",
    "#    return False\n",
    "#"
   ]
  },
  {
   "cell_type": "code",
   "execution_count": 4,
   "id": "f6af6c3f",
   "metadata": {},
   "outputs": [
    {
     "name": "stdout",
     "output_type": "stream",
     "text": [
      "65\n",
      "A\n"
     ]
    }
   ],
   "source": [
    "char_num = ord ('A')\n",
    "print(char_num)\n",
    "\n",
    "print(chr(char_num))"
   ]
  },
  {
   "cell_type": "code",
   "execution_count": null,
   "id": "8f12ab15",
   "metadata": {},
   "outputs": [],
   "source": []
  }
 ],
 "metadata": {
  "kernelspec": {
   "display_name": "Python 3 (ipykernel)",
   "language": "python",
   "name": "python3"
  },
  "language_info": {
   "codemirror_mode": {
    "name": "ipython",
    "version": 3
   },
   "file_extension": ".py",
   "mimetype": "text/x-python",
   "name": "python",
   "nbconvert_exporter": "python",
   "pygments_lexer": "ipython3",
   "version": "3.10.1"
  }
 },
 "nbformat": 4,
 "nbformat_minor": 5
}
