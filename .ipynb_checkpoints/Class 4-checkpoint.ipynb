{
 "cells": [
  {
   "cell_type": "code",
   "execution_count": 18,
   "id": "34902b5d",
   "metadata": {},
   "outputs": [],
   "source": [
    "# recursive factorial:\n",
    "\n",
    "def fact(n):\n",
    "    if n == 0:\n",
    "        return 1\n",
    "    return n*fact(n-1)"
   ]
  },
  {
   "cell_type": "code",
   "execution_count": 17,
   "id": "67235801",
   "metadata": {},
   "outputs": [],
   "source": [
    "from functools import lru_cache\n",
    "\n",
    "\n",
    "@lru_cache\n",
    "def fib(n):\n",
    "    if n < 2:\n",
    "        return n\n",
    "    return fib(n-1) + fib(n-2)"
   ]
  },
  {
   "cell_type": "code",
   "execution_count": 2,
   "id": "206ceaab",
   "metadata": {},
   "outputs": [
    {
     "ename": "NameError",
     "evalue": "name 'fib' is not defined",
     "output_type": "error",
     "traceback": [
      "\u001b[0;31m---------------------------------------------------------------------------\u001b[0m",
      "\u001b[0;31mNameError\u001b[0m                                 Traceback (most recent call last)",
      "Input \u001b[0;32mIn [2]\u001b[0m, in \u001b[0;36m<cell line: 1>\u001b[0;34m()\u001b[0m\n\u001b[0;32m----> 1\u001b[0m \u001b[43mfib\u001b[49m(\u001b[38;5;241m20\u001b[39m)\n",
      "\u001b[0;31mNameError\u001b[0m: name 'fib' is not defined"
     ]
    }
   ],
   "source": [
    "fib(20)"
   ]
  },
  {
   "cell_type": "code",
   "execution_count": 14,
   "id": "96005bc1",
   "metadata": {},
   "outputs": [],
   "source": [
    "fib(100)"
   ]
  },
  {
   "cell_type": "code",
   "execution_count": 15,
   "id": "695a7071",
   "metadata": {},
   "outputs": [],
   "source": [
    "for i in range(1000, 10000, 500):\n",
    "    fib(i)"
   ]
  },
  {
   "cell_type": "code",
   "execution_count": 16,
   "id": "0cf960aa",
   "metadata": {},
   "outputs": [
    {
     "name": "stdout",
     "output_type": "stream",
     "text": [
      "None\n"
     ]
    }
   ],
   "source": [
    "print(fib(1000))"
   ]
  },
  {
   "cell_type": "code",
   "execution_count": 19,
   "id": "ce64696b",
   "metadata": {},
   "outputs": [],
   "source": [
    "# convert these recursive functions to iterative function (meaning, instead of recursing, use looping)"
   ]
  },
  {
   "cell_type": "code",
   "execution_count": 5,
   "id": "0d678f3f",
   "metadata": {},
   "outputs": [],
   "source": [
    "class HashTable:\n",
    "    def __init__(self, size):\n",
    "        # Setting up size, slots and data.\n",
    "        self.size = size\n",
    "        self.slots = [None] * self.size\n",
    "        self.data = [None] * self.size\n",
    "\n",
    "    # We're only using integer values for \"key\".\n",
    "    def put(self, key, data):\n",
    "        # calculating hashvalue\n",
    "        hashvalue = self.hashfunction(key, len(self.slots))\n",
    "        print(\"Storing with hashvalue: %s\" % hashvalue)\n",
    "        # Checking if the slot at that index is empty\n",
    "        if self.slots[hashvalue] == None:\n",
    "            self.slots[hashvalue] = key\n",
    "            self.data[hashvalue] = data\n",
    "            print(\"Stored: %s with key: %s\" % (key, data))\n",
    "        else:\n",
    "            # If key already exists, replace old value\n",
    "            if self.slots[hashvalue] == key:\n",
    "                self.data[hashvalue] = data\n",
    "                print(\"Stored: %s with key: %s\" % (key, data))\n",
    "            else:\n",
    "                # Otherwise: find the next available slot\n",
    "                nextslot = self.rehash(hashvalue, len(self.slots))\n",
    "                while self.slots[nextslot] != None and self.slots[nextslot] != key:\n",
    "                    nextslot = self.rehash(nextslot, len(self.slots))\n",
    "                if self.slots[nextslot] == None:\n",
    "                    self.slots[nextslot] = key\n",
    "                    self.data[nextslot] = data\n",
    "                    print(\"Stored: %s with key: %s\" % (key, data))\n",
    "                else:\n",
    "                    self.data[nextslot] = data\n",
    "                    print(\"Stored: %s with key: %s\" % (key, data))\n",
    "            \n",
    "            \n",
    "    def hashfunction(self, key, size):\n",
    "        return key%size\n",
    "\n",
    "    def rehash(self, oldhash, size):\n",
    "        return (oldhash+1)%size\n",
    "\n",
    "    def get(self, key):\n",
    "        startslot = self.hashfunction(key, len(self.slots))\n",
    "        data = None\n",
    "        stop = False\n",
    "        found = False\n",
    "        position = startslot\n",
    "        while self.slots[position] != None and not found and not stop:\n",
    "            if self.slots[position] == key:\n",
    "                found = True\n",
    "                data = self.data[position]\n",
    "                print(\"Found key at position: %s with data: %s\" % (position, data))\n",
    "            else:\n",
    "                position = self.rehash(position, len(self.slots))\n",
    "                if position == startslot:\n",
    "                    stop = True\n",
    "        return data\n",
    "\n",
    "    def __getitem__(self, key):\n",
    "        return self.get(key)\n",
    "\n",
    "    def __setitem__(self, key, data):\n",
    "        self.put(key, data)\n",
    "\n",
    "    def print_table(self):\n",
    "        for i in range(self.size):\n",
    "            print(\" %s -> %s\" % (self.slots[i], self.data[i]))\n",
    "            \n",
    "        "
   ]
  },
  {
   "cell_type": "code",
   "execution_count": 6,
   "id": "ac59a63a",
   "metadata": {},
   "outputs": [
    {
     "name": "stdout",
     "output_type": "stream",
     "text": [
      "Storing with hashvalue: 1\n",
      "Stored: 1 with key: 0\n",
      "Storing with hashvalue: 2\n",
      "Stored: 2 with key: 1\n",
      "Storing with hashvalue: 3\n",
      "Stored: 3 with key: 1\n",
      "Storing with hashvalue: 4\n",
      "Stored: 4 with key: 2\n",
      "Storing with hashvalue: 5\n",
      "Stored: 5 with key: 5\n",
      "Storing with hashvalue: 6\n",
      "Stored: 6 with key: 8\n",
      "Storing with hashvalue: 7\n",
      "Stored: 7 with key: 13\n",
      "Storing with hashvalue: 8\n",
      "Stored: 8 with key: 21\n",
      " None -> None\n",
      " 1 -> 0\n",
      " 2 -> 1\n",
      " 3 -> 1\n",
      " 4 -> 2\n",
      " 5 -> 5\n",
      " 6 -> 8\n",
      " 7 -> 13\n",
      " 8 -> 21\n",
      " None -> None\n",
      " None -> None\n",
      "Found key at position: 8 with data: 21\n",
      "21\n"
     ]
    }
   ],
   "source": [
    "ht = HashTable(11)\n",
    "values = [0, 1, 1, 2, 5, 8, 13, 21]\n",
    "\n",
    "def load_hashtable():\n",
    "    for i in range(8):\n",
    "        ht.put(i+1, values[i])\n",
    "\n",
    "load_hashtable()\n",
    "ht.print_table()\n",
    "print(ht.get(8))"
   ]
  },
  {
   "cell_type": "code",
   "execution_count": 24,
   "id": "24ff81b4",
   "metadata": {},
   "outputs": [],
   "source": [
    "class Node:\n",
    "    def __init__(self,data):\n",
    "        self.data = data\n",
    "        self.next = None"
   ]
  },
  {
   "cell_type": "code",
   "execution_count": 25,
   "id": "e0dab99b",
   "metadata": {},
   "outputs": [
    {
     "name": "stdout",
     "output_type": "stream",
     "text": [
      "10\n",
      "11\n",
      "12\n"
     ]
    }
   ],
   "source": [
    "node1 = Node(10)\n",
    "node2 = Node(11)\n",
    "node3 = Node(12)\n",
    "\n",
    "node1.next = node2\n",
    "node2.next = node3\n",
    "\n",
    "current = node1\n",
    "while current != None:\n",
    "    print(current.data)\n",
    "    current = current.next"
   ]
  },
  {
   "cell_type": "code",
   "execution_count": null,
   "id": "c63de1d1",
   "metadata": {},
   "outputs": [],
   "source": [
    "class SinglyLinkedList\n",
    "def __init__(self):\n",
    "    self.head = None\n",
    "    \n",
    "def append(self, item):\n",
    "    current = self.head\n",
    "    if not current:\n",
    "        self.head = Node(value)\n",
    "    else:\n",
    "        while current.next:\n",
    "            curr"
   ]
  }
 ],
 "metadata": {
  "kernelspec": {
   "display_name": "Python 3 (ipykernel)",
   "language": "python",
   "name": "python3"
  },
  "language_info": {
   "codemirror_mode": {
    "name": "ipython",
    "version": 3
   },
   "file_extension": ".py",
   "mimetype": "text/x-python",
   "name": "python",
   "nbconvert_exporter": "python",
   "pygments_lexer": "ipython3",
   "version": "3.10.1"
  }
 },
 "nbformat": 4,
 "nbformat_minor": 5
}
