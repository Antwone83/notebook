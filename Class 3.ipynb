{
 "cells": [
  {
   "cell_type": "markdown",
   "id": "bbb562cc",
   "metadata": {},
   "source": [
    "# Balanced parantheses check\n",
    "\n",
    "Given a string of opening and closing parantheses, check whether it is balanced.\n",
    "We have 3 types of parantheses: round(), square \"[]\" and curly {}.\n",
    "\n",
    "Assumption: Parameter string doesn't contain any other characters other than these (no spaces, words or numbers).\n",
    "Balanced parantheses require every opening paranthesses to be closed in the revers order opened.\n",
    "\n",
    "## examples: ([]) is balanced, ([)] is not balanced.\n",
    "\n",
    "### instructions:\n",
    "Create a function called balance_check that takes a parameter \"s\".\n",
    "balance_check(\"()\") should reutrn true."
   ]
  },
  {
   "cell_type": "code",
   "execution_count": 1,
   "id": "cb51558b",
   "metadata": {},
   "outputs": [],
   "source": [
    "# Pseudo code to solve this problem:\n",
    "# define function \"balance_check\" with parameters: s (string)\n",
    "# Check spaces\n",
    "# Check characters\n",
    "#          string_length = length_of(s)\n",
    "#.         if string_length has an odd number of characters:\n",
    "#.             return False\n",
    "#          else\n",
    "#              if the first character is an opening parantheses hahahahahaha\n",
    "#.         walid_matches = [(\",\")\")\", (\"[\", \"]\"), (\"{\", \"}\")]\n",
    "#.         stack = new Stack() # create an instance of Stack()\n",
    "#          for each character in s:\n",
    "#              if the character is an opening parantheses:\n",
    "#                 stack.push(character)\n",
    "#              else:\n",
    "#                   last_parantheses = stack.pop()\n",
    "#.                  if (last_parantheses, character) not in valid_matches:\n",
    "#                      return False\n",
    "#              return True if stack is empty, False otherwise\n",
    "# \n",
    "#                       for loop\n",
    "#                       store to database\n",
    "#                       recall from database when check is complete\n",
    "#                       print True if True\n",
    "#           else \n",
    "#                        print False if False\n",
    "\n",
    "class Stack:\n",
    "    def __init__(self):\n",
    "        self.items = []\n",
    "        \n",
    "    def is_empty(self):\n",
    "        return self.items == []\n",
    "\n",
    "    def push(self, item):\n",
    "        self.items.append(item)\n",
    "    \n",
    "    def pop(self):\n",
    "        return self.items.pop()\n",
    "   \n",
    "    def peek(self):\n",
    "        return self.items[len(self.items)-1]\n",
    "    \n",
    "    def size(self):\n",
    "        return len(self.items)\n",
    "    \n",
    "    def balance_check(s):\n",
    "        if len(s) % 2 != 0:\n",
    "            return Flase\n",
    "        stack = Stack()\n",
    "        open_paren = set(\"([{\")\n",
    "        valid_matches = set(\n",
    "            [(\"(\",\")\"),\n",
    "             (\"[\", \"]\"),\n",
    "             (\"{\", \"}\"),\n",
    "            ])\n",
    "        for character in s:\n",
    "            if character im open_paren:\n",
    "                stack.push(character)\n",
    "            else:\n",
    "                if stack.is_empty():\n",
    "                    return False\n",
    "                lasat_open = stack.pop()\n",
    "                if (last_open, character) not in valid_matches:\n",
    "                    return False\n",
    "        return stack.is_empty()"
   ]
  },
  {
   "cell_type": "code",
   "execution_count": 2,
   "id": "5a7265a3",
   "metadata": {},
   "outputs": [
    {
     "ename": "AssertionError",
     "evalue": "",
     "output_type": "error",
     "traceback": [
      "\u001b[0;31m---------------------------------------------------------------------------\u001b[0m",
      "\u001b[0;31mAssertionError\u001b[0m                            Traceback (most recent call last)",
      "Input \u001b[0;32mIn [2]\u001b[0m, in \u001b[0;36m<cell line: 1>\u001b[0;34m()\u001b[0m\n\u001b[0;32m----> 1\u001b[0m \u001b[38;5;28;01massert\u001b[39;00m balance_check(\u001b[38;5;124m\"\u001b[39m\u001b[38;5;124m([\u001b[39m\u001b[38;5;124m{\u001b[39m\u001b[38;5;124m([(\u001b[39m\u001b[38;5;132;01m{}\u001b[39;00m\u001b[38;5;124m)])}])\u001b[39m\u001b[38;5;124m\"\u001b[39m) \u001b[38;5;241m==\u001b[39m \u001b[38;5;28;01mTrue\u001b[39;00m\n\u001b[1;32m      2\u001b[0m \u001b[38;5;28;01massert\u001b[39;00m balance_check(\u001b[38;5;124m\"\u001b[39m\u001b[38;5;124m((((((()))))))\u001b[39m\u001b[38;5;124m\"\u001b[39m) \u001b[38;5;241m==\u001b[39m \u001b[38;5;28;01mFalse\u001b[39;00m\n\u001b[1;32m      3\u001b[0m \u001b[38;5;28;01massert\u001b[39;00m balance_check(\u001b[38;5;124m\"\u001b[39m\u001b[38;5;124m()()()[][]\u001b[39m\u001b[38;5;124m{\u001b[39m\u001b[38;5;124m(([]))}\u001b[39m\u001b[38;5;124m\"\u001b[39m) \u001b[38;5;241m==\u001b[39m \u001b[38;5;28;01mTrue\u001b[39;00m\n",
      "\u001b[0;31mAssertionError\u001b[0m: "
     ]
    }
   ],
   "source": [
    "try:\n",
    "    assert balance_check(\"([{([({})])}])\") == True\n",
    "    assert balance_check(\"((((((()))))))\") == False\n",
    "    assert balance_check(\"()()()[][]{(([]))}\") == True\n",
    "    print(\"Test OK!\")\n",
    "except AssertionError as assert_err:\n",
    "    print(assert_err)"
   ]
  },
  {
   "cell_type": "code",
   "execution_count": 3,
   "id": "dae2c301",
   "metadata": {},
   "outputs": [],
   "source": [
    "## Queue 2 stacks\n",
    "## Using two stacks create a queue.\n",
    "## Stacks are LIFO. Queues are FIFO."
   ]
  },
  {
   "cell_type": "code",
   "execution_count": 3,
   "id": "414bd7e7",
   "metadata": {},
   "outputs": [],
   "source": [
    "class TwoStack:\n",
    "\n",
    "    def __init__(self):\n",
    "        self.stack1 = []    #LIFO\n",
    "        self.stack2 = []    #FIFO\n",
    "\n",
    "    def enqueue(self, item):\n",
    "        self.stack1.append(item)   #LIFO\n",
    "\n",
    "    def dequeue(self):\n",
    "        if not self.stack2:\n",
    "            while self.stack1:\n",
    "                item = self.stack1.pop()\n",
    "                self.stack2.append(item)\n",
    "            return self.stack2.pop()\n",
    "        \n",
    "    def test_twostack():\n",
    "        queue = QueueTwoStack()\n",
    "        for i in range(5):\n",
    "            print(\"Adding %s to the queue.\" % i)\n",
    "            queue.enqueue(i)\n",
    "        for i in range(5):\n",
    "            current = queue.dequeue()\n",
    "            assert current == i\n",
    "            print(\"Got %s from queue which meets requirements.\" % current)\n",
    "            \n",
    "        print(\"TOK\")\n",
    "\n"
   ]
  },
  {
   "cell_type": "code",
   "execution_count": 5,
   "id": "acdc4515",
   "metadata": {},
   "outputs": [
    {
     "ename": "NameError",
     "evalue": "name 'test_Twostack' is not defined",
     "output_type": "error",
     "traceback": [
      "\u001b[0;31m---------------------------------------------------------------------------\u001b[0m",
      "\u001b[0;31mNameError\u001b[0m                                 Traceback (most recent call last)",
      "Input \u001b[0;32mIn [5]\u001b[0m, in \u001b[0;36m<cell line: 1>\u001b[0;34m()\u001b[0m\n\u001b[0;32m----> 1\u001b[0m \u001b[43mtest_Twostack\u001b[49m()\n",
      "\u001b[0;31mNameError\u001b[0m: name 'test_Twostack' is not defined"
     ]
    }
   ],
   "source": [
    "test_Twostack()"
   ]
  },
  {
   "cell_type": "code",
   "execution_count": null,
   "id": "3fadee41",
   "metadata": {},
   "outputs": [],
   "source": []
  }
 ],
 "metadata": {
  "kernelspec": {
   "display_name": "Python 3 (ipykernel)",
   "language": "python",
   "name": "python3"
  },
  "language_info": {
   "codemirror_mode": {
    "name": "ipython",
    "version": 3
   },
   "file_extension": ".py",
   "mimetype": "text/x-python",
   "name": "python",
   "nbconvert_exporter": "python",
   "pygments_lexer": "ipython3",
   "version": "3.10.1"
  }
 },
 "nbformat": 4,
 "nbformat_minor": 5
}
