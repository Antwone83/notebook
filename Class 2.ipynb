{
 "cells": [
  {
   "cell_type": "code",
   "execution_count": 5,
   "id": "7c13279b",
   "metadata": {},
   "outputs": [],
   "source": [
    "class Stack:\n",
    "    def __init__(self):\n",
    "        self.items = []\n",
    "        \n",
    "    def is_empty(self):\n",
    "        return self.items == []\n",
    "\n",
    "    def push(self, item):\n",
    "        self.items.append(item)\n",
    "    \n",
    "    def pop(self):\n",
    "        return self.items.pop()\n",
    "   \n",
    "    def peek(self):\n",
    "        return self.items[len(self.items)-1]\n",
    "    \n",
    "    def size(self):\n",
    "        return len(self.items)\n",
    "    "
   ]
  },
  {
   "cell_type": "code",
   "execution_count": 6,
   "id": "657fd6f7",
   "metadata": {},
   "outputs": [],
   "source": [
    "# given a string: \"abcde\", invert it so that we get \"edcba\"\n",
    "# constraint: must use the stack class above.\n",
    "# class Stack:\n",
    "    # def push(self, item):\n",
    "        # return self.items.append(item)\n",
    "    \n",
    "    # def pop(self):\n",
    "        # return self.items.pop()\n",
    "    "
   ]
  },
  {
   "cell_type": "code",
   "execution_count": 7,
   "id": "25e46f67",
   "metadata": {},
   "outputs": [],
   "source": [
    "def invert_string(my_string):\n",
    "    stack = Stack()\n",
    "    for letter in my_string:\n",
    "        stack.push(letter)\n",
    "    \n",
    "    out_str = \"\"\n",
    "    # loop until the stack is empty\n",
    "    # and append each character resulting from a pop operation to \"out_str\"\n",
    "    while not stack.is_empty():\n",
    "       # out_str = out_str + stack.pop()     (Long Version)\n",
    "        out_str += satck.pop()      # (Shorthand Version)\n",
    "    return out_str"
   ]
  },
  {
   "cell_type": "code",
   "execution_count": 8,
   "id": "fe805b59",
   "metadata": {},
   "outputs": [],
   "source": [
    "# invert(my_string) -> my_string = RAFA\n",
    "# line: create stack\n",
    "# first loop: iteration_1: letter = R; stack = ['R']\n",
    "# iteration_2: letter = A; stack = ['R', 'A']\n",
    "# iteration_3: letter = F; stack = ['R', 'A', 'F']\n",
    "# iteration_4: letter = A; stack = ['R', 'A', 'F', 'A']\n",
    "# on line 6: out_str=\"\"\n",
    "# second loop: iteration_1: stack not empty, so: out_str = 'A'; stack = ['R','A', 'F']\n",
    "# iteration_2: stack not empty, so: out_str = 'AF'; stack = ['R', 'A']\n",
    "# iteration_1: stack not empty, so: out_str = 'AFA'; stack = ['R']\n",
    "# iteration_1: stack not empty, so: out_str = 'AFAR'; stack = []\n",
    "# On line 11, we return our \"out_str\" variable which contains the inverted string."
   ]
  },
  {
   "cell_type": "code",
   "execution_count": null,
   "id": "9f36dad7",
   "metadata": {},
   "outputs": [],
   "source": [
    "class Queue:\n",
    "    def __init__(self):\n",
    "        self.items = []\n",
    "    \n",
    "    def is_empty(self):\n",
    "        return self.items == []\n",
    "    \n",
    "    def enqueue(self, item):\n",
    "        self.items.insert(0, item)\n",
    "    \n",
    "    def dequeue(self):\n",
    "        return self.items.pop()\n",
    "    \n",
    "    def size(self):\n",
    "        return len(self.items)"
   ]
  }
 ],
 "metadata": {
  "kernelspec": {
   "display_name": "Python 3 (ipykernel)",
   "language": "python",
   "name": "python3"
  },
  "language_info": {
   "codemirror_mode": {
    "name": "ipython",
    "version": 3
   },
   "file_extension": ".py",
   "mimetype": "text/x-python",
   "name": "python",
   "nbconvert_exporter": "python",
   "pygments_lexer": "ipython3",
   "version": "3.10.1"
  }
 },
 "nbformat": 4,
 "nbformat_minor": 5
}
